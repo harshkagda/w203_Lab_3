{
 "cells": [
  {
   "cell_type": "markdown",
   "metadata": {},
   "source": [
    "Lab Assignment 3 Part 1 Members \n",
    "\n",
    "1. Darren Ang <br>\n",
    "2. Harsh Kagda <br>\n",
    "3. Jonathan Hilton <br>\n",
    "4. Keith Wertsching <br>\n",
    "5. Nicole Yoon\n"
   ]
  },
  {
   "cell_type": "markdown",
   "metadata": {},
   "source": [
    "## Introduction\n",
    "\n",
    "What would happen if laws were erased and all crime became legal? One would assume that human beings would still have enough innate compassion to avoid killing each other, but many cases in history have demonstrated humanity's ability to act purely out of emotion and completely disregard social norms.  But is it the simple fact that certain actions are against the law that deter citizens from committing crimes, or is another layer of implication necessary to deter people from heinous actions? Modern research tends to agree with the latter idea, that the certainty and severity of punishment are critical to detering people from a life of crime.  Our research sets out to answer the question: \"To what extent does the probability of getting caught and the severity of the punishment reduce the crime rate in the North Carolina counties that have the highest percentage mix of face to face crimes?\"\n",
    "\n",
    "The result of our analysis is going to demonstrate the potential effectiveness of two policies that are central to our campaign's crime reduction initiative:\n",
    "\n",
    "1. Empowering police officers to build a network of citizens in their community who can help the officers find those responsible for committing crimes and increasing the probability that the perpetrators will be arrested.\n",
    "2. Harshening the punishments for repeat offenders by increasing the average sentences they receive in an effort to deter criminals from continuing to break the law."
   ]
  },
  {
   "cell_type": "markdown",
   "metadata": {},
   "source": [
    "## Initial Data Loading and Cleaning\n",
    "\n",
    "The data is comprised of 25 metrics gathered for 91 counties from the state of North Carolina. Upon import, we noticed that there were 97 rows instead of the expected 91.  Looking further into, the dataset had 6 extra rows that were all NA values. We removed these rows to create a subset of data that only included the 91 relevant datapoints."
   ]
  },
  {
   "cell_type": "code",
   "execution_count": 1,
   "metadata": {},
   "outputs": [
    {
     "name": "stderr",
     "output_type": "stream",
     "text": [
      "Loading required package: carData\n",
      "Loading required package: zoo\n",
      "\n",
      "Attaching package: 'zoo'\n",
      "\n",
      "The following objects are masked from 'package:base':\n",
      "\n",
      "    as.Date, as.Date.numeric\n",
      "\n"
     ]
    },
    {
     "name": "stdout",
     "output_type": "stream",
     "text": [
      "'data.frame':\t97 obs. of  25 variables:\n",
      " $ county  : int  1 3 5 7 9 11 13 15 17 19 ...\n",
      " $ year    : int  87 87 87 87 87 87 87 87 87 87 ...\n",
      " $ crmrte  : num  0.0356 0.0153 0.013 0.0268 0.0106 ...\n",
      " $ prbarr  : num  0.298 0.132 0.444 0.365 0.518 ...\n",
      " $ prbconv : Factor w/ 92 levels \"\",\"`\",\"0.068376102\",..: 63 89 13 62 52 3 59 78 42 86 ...\n",
      " $ prbpris : num  0.436 0.45 0.6 0.435 0.443 ...\n",
      " $ avgsen  : num  6.71 6.35 6.76 7.14 8.22 ...\n",
      " $ polpc   : num  0.001828 0.000746 0.001234 0.00153 0.00086 ...\n",
      " $ density : num  2.423 1.046 0.413 0.492 0.547 ...\n",
      " $ taxpc   : num  31 26.9 34.8 42.9 28.1 ...\n",
      " $ west    : int  0 0 1 0 1 1 0 0 0 0 ...\n",
      " $ central : int  1 1 0 1 0 0 0 0 0 0 ...\n",
      " $ urban   : int  0 0 0 0 0 0 0 0 0 0 ...\n",
      " $ pctmin80: num  20.22 7.92 3.16 47.92 1.8 ...\n",
      " $ wcon    : num  281 255 227 375 292 ...\n",
      " $ wtuc    : num  409 376 372 398 377 ...\n",
      " $ wtrd    : num  221 196 229 191 207 ...\n",
      " $ wfir    : num  453 259 306 281 289 ...\n",
      " $ wser    : num  274 192 210 257 215 ...\n",
      " $ wmfg    : num  335 300 238 282 291 ...\n",
      " $ wfed    : num  478 410 359 412 377 ...\n",
      " $ wsta    : num  292 363 332 328 367 ...\n",
      " $ wloc    : num  312 301 281 299 343 ...\n",
      " $ mix     : num  0.0802 0.0302 0.4651 0.2736 0.0601 ...\n",
      " $ pctymle : num  0.0779 0.0826 0.0721 0.0735 0.0707 ...\n"
     ]
    },
    {
     "data": {
      "text/plain": [
       "     county           year        crmrte             prbarr       \n",
       " Min.   :  1.0   Min.   :87   Min.   :0.005533   Min.   :0.09277  \n",
       " 1st Qu.: 52.0   1st Qu.:87   1st Qu.:0.020927   1st Qu.:0.20568  \n",
       " Median :105.0   Median :87   Median :0.029986   Median :0.27095  \n",
       " Mean   :101.6   Mean   :87   Mean   :0.033400   Mean   :0.29492  \n",
       " 3rd Qu.:152.0   3rd Qu.:87   3rd Qu.:0.039642   3rd Qu.:0.34438  \n",
       " Max.   :197.0   Max.   :87   Max.   :0.098966   Max.   :1.09091  \n",
       " NA's   :6       NA's   :6    NA's   :6          NA's   :6        \n",
       "        prbconv      prbpris           avgsen           polpc         \n",
       "            : 5   Min.   :0.1500   Min.   : 5.380   Min.   :0.000746  \n",
       " 0.588859022: 2   1st Qu.:0.3648   1st Qu.: 7.340   1st Qu.:0.001231  \n",
       " `          : 1   Median :0.4234   Median : 9.100   Median :0.001485  \n",
       " 0.068376102: 1   Mean   :0.4108   Mean   : 9.647   Mean   :0.001702  \n",
       " 0.140350997: 1   3rd Qu.:0.4568   3rd Qu.:11.420   3rd Qu.:0.001877  \n",
       " 0.154451996: 1   Max.   :0.6000   Max.   :20.700   Max.   :0.009054  \n",
       " (Other)    :86   NA's   :6        NA's   :6        NA's   :6         \n",
       "    density            taxpc             west           central      \n",
       " Min.   :0.00002   Min.   : 25.69   Min.   :0.0000   Min.   :0.0000  \n",
       " 1st Qu.:0.54741   1st Qu.: 30.66   1st Qu.:0.0000   1st Qu.:0.0000  \n",
       " Median :0.96226   Median : 34.87   Median :0.0000   Median :0.0000  \n",
       " Mean   :1.42884   Mean   : 38.06   Mean   :0.2527   Mean   :0.3736  \n",
       " 3rd Qu.:1.56824   3rd Qu.: 40.95   3rd Qu.:0.5000   3rd Qu.:1.0000  \n",
       " Max.   :8.82765   Max.   :119.76   Max.   :1.0000   Max.   :1.0000  \n",
       " NA's   :6         NA's   :6        NA's   :6        NA's   :6       \n",
       "     urban            pctmin80           wcon            wtuc      \n",
       " Min.   :0.00000   Min.   : 1.284   Min.   :193.6   Min.   :187.6  \n",
       " 1st Qu.:0.00000   1st Qu.: 9.845   1st Qu.:250.8   1st Qu.:374.6  \n",
       " Median :0.00000   Median :24.312   Median :281.4   Median :406.5  \n",
       " Mean   :0.08791   Mean   :25.495   Mean   :285.4   Mean   :411.7  \n",
       " 3rd Qu.:0.00000   3rd Qu.:38.142   3rd Qu.:314.8   3rd Qu.:443.4  \n",
       " Max.   :1.00000   Max.   :64.348   Max.   :436.8   Max.   :613.2  \n",
       " NA's   :6         NA's   :6        NA's   :6       NA's   :6      \n",
       "      wtrd            wfir            wser             wmfg      \n",
       " Min.   :154.2   Min.   :170.9   Min.   : 133.0   Min.   :157.4  \n",
       " 1st Qu.:190.9   1st Qu.:286.5   1st Qu.: 229.7   1st Qu.:288.9  \n",
       " Median :203.0   Median :317.3   Median : 253.2   Median :320.2  \n",
       " Mean   :211.6   Mean   :322.1   Mean   : 275.6   Mean   :335.6  \n",
       " 3rd Qu.:225.1   3rd Qu.:345.4   3rd Qu.: 280.5   3rd Qu.:359.6  \n",
       " Max.   :354.7   Max.   :509.5   Max.   :2177.1   Max.   :646.9  \n",
       " NA's   :6       NA's   :6       NA's   :6        NA's   :6      \n",
       "      wfed            wsta            wloc            mix         \n",
       " Min.   :326.1   Min.   :258.3   Min.   :239.2   Min.   :0.01961  \n",
       " 1st Qu.:400.2   1st Qu.:329.3   1st Qu.:297.3   1st Qu.:0.08074  \n",
       " Median :449.8   Median :357.7   Median :308.1   Median :0.10186  \n",
       " Mean   :442.9   Mean   :357.5   Mean   :312.7   Mean   :0.12884  \n",
       " 3rd Qu.:478.0   3rd Qu.:382.6   3rd Qu.:329.2   3rd Qu.:0.15175  \n",
       " Max.   :598.0   Max.   :499.6   Max.   :388.1   Max.   :0.46512  \n",
       " NA's   :6       NA's   :6       NA's   :6       NA's   :6        \n",
       "    pctymle       \n",
       " Min.   :0.06216  \n",
       " 1st Qu.:0.07443  \n",
       " Median :0.07771  \n",
       " Mean   :0.08396  \n",
       " 3rd Qu.:0.08350  \n",
       " Max.   :0.24871  \n",
       " NA's   :6        "
      ]
     },
     "metadata": {},
     "output_type": "display_data"
    },
    {
     "data": {
      "text/html": [
       "144"
      ],
      "text/latex": [
       "144"
      ],
      "text/markdown": [
       "144"
      ],
      "text/plain": [
       "[1] 144"
      ]
     },
     "metadata": {},
     "output_type": "display_data"
    },
    {
     "data": {
      "text/html": [
       "97"
      ],
      "text/latex": [
       "97"
      ],
      "text/markdown": [
       "97"
      ],
      "text/plain": [
       "[1] 97"
      ]
     },
     "metadata": {},
     "output_type": "display_data"
    },
    {
     "data": {
      "text/html": [
       "0"
      ],
      "text/latex": [
       "0"
      ],
      "text/markdown": [
       "0"
      ],
      "text/plain": [
       "[1] 0"
      ]
     },
     "metadata": {},
     "output_type": "display_data"
    },
    {
     "data": {
      "text/html": [
       "91"
      ],
      "text/latex": [
       "91"
      ],
      "text/markdown": [
       "91"
      ],
      "text/plain": [
       "[1] 91"
      ]
     },
     "metadata": {},
     "output_type": "display_data"
    },
    {
     "data": {
      "text/plain": [
       "Length  Class   Mode \n",
       "     0   NULL   NULL "
      ]
     },
     "metadata": {},
     "output_type": "display_data"
    }
   ],
   "source": [
    "library(car)\n",
    "library(lmtest)\n",
    "library(sandwich)\n",
    "#library(stargazer)\n",
    "\n",
    "df = read.csv('crime_v2.csv')\n",
    "str(df)\n",
    "summary(df)\n",
    "sum(is.na(df))\n",
    "nrow(df)\n",
    "df = na.omit(df)\n",
    "sum(is.na(df))\n",
    "nrow(df)\n",
    "summary(df$su)"
   ]
  },
  {
   "cell_type": "markdown",
   "metadata": {},
   "source": [
    "## Model Building Process: Selecting Variables for all three models\n",
    "\n",
    "Based on our research question, we selected crime rate (crmrte) as our dependent variable. For our analysis, we are assuming that face to face crimes are more likely to be violent crimes.  In order to generate results that would make a strong campaign message, we decided to have our analysis focus on the top half of counties that had a higher mix of face to face crimes. A sample size of 46 is not ideal, but it is large enough for us to move forward without any clear violations of CLM Assumptions based on sample size.\n",
    "\n",
    "\n",
    "It is important to note that we are doing a log - log comparison for the dependent variable and the independent variables. We feel that our analysis will provide stronger results by showing how a percentage change in one of the independent variables will cause a percentage change in crime rate.  The log - log comparison will allow us to compare across our variables without having to explain the units and range of each independent variable.\n",
    "\n",
    "\n",
    "Our base model needs to address the idea of crime and punishment, both the probability of getting caught and the punishment associated with getting caught.  For the probability of getting caught, we going to use probability of arrest (prbarr).  For the punishment associated with getting caught, we are going to use the probability of conviction (prbconv) and the average sentence (avgsen).\n",
    "\n",
    "Looking at these variables, we discovered that we needed to convert the probability of conviction to a numeric value (we are calling it prbconv2), which will allow us to perform further analysis on it.  In terms of outliers, we did find a clear outlier on the probability of arrest, which measures that likelihood that someone will be arrested after they have committed a crime. This metric should logically never exceed 100%, which is the circumstance where every crime committed is met with an arrest. We decided to omit the county that had above 100% probability of arrest in order to avoid contaminating our results. Looking at the other variables, we did not find anything that would bias our results.  For the variables in our base model, we see no evidence that would indicate a non-linear relationship with crime rate.  \n",
    "\n",
    "\n",
    "For model 2, we are keeping the same variables from the base model, and holding administrative characteristics constant. The administrative characteristics include police per capita (polpc) and tax revenue per capita (taxpc).  Keeping these two characteristics constant allows us to remove the potentially biasing factor of one counties justice system having more resources than another, which will enable us to focus specifically on how changing the probability of getting caught (probability of arrest) and the punishment associate with getting caught (probability of conviction and average sentence) will change the crime rate.\n",
    "\n",
    "Looking at these variables for outliers, we found that tax revenue per capita had a mean of 38.06 and a max of 119.76. Considering that the next highest value was 75.76, we decided to not include the county that had the outlier value on Tax Revenue per capita and assume that the value was collected or reported in error.  Removing this county allows us to mitigate the potential bias from poor data collection or reporting standards.\n",
    "\n",
    "For the administrative variables, we see no evidence that would indicate a non-linear relationship with crime rate.\n",
    "\n",
    "For model 3, we are examining the same punishment variables as the base model, holding the administrative characteristics from model 2 constant, and holding three demographic characteristics constant to help eliminate the potential bias that may arise from the group of people being different from one county to another.  Holding the percentage minority (pctmin80), percentage young male (pctymle), and population density (density) constant allows us to better examine the relationship between punishment and crime rate without having to worry about people from different demographics behaving in different ways.  Looking at these variables, we do not see any evidence of outliers or any evidence that a non-linear relationship with crime rate exists.\n",
    "\n",
    "For the purpose of our analysis, we are not including county, year, probability of prison sentence (prbpris), urban indicator (urban), west indicator (west), central indicator (central), and weekly wage across different industries (wcon, wtuc, wtrd, wfir, wser, wmfg, wfed, wsta, wloc).  Because we are not including any of these variables in our models, we are not examining them for outliers or for non-linear relationship with crime rate."
   ]
  },
  {
   "cell_type": "code",
   "execution_count": 2,
   "metadata": {},
   "outputs": [
    {
     "data": {
      "text/html": [
       "46"
      ],
      "text/latex": [
       "46"
      ],
      "text/markdown": [
       "46"
      ],
      "text/plain": [
       "[1] 46"
      ]
     },
     "metadata": {},
     "output_type": "display_data"
    },
    {
     "data": {
      "text/plain": [
       "     county           year        crmrte            prbarr      \n",
       " Min.   :  5.0   Min.   :87   Min.   :0.01192   Min.   :0.1461  \n",
       " 1st Qu.: 53.0   1st Qu.:87   1st Qu.:0.02060   1st Qu.:0.2548  \n",
       " Median :113.0   Median :87   Median :0.03000   Median :0.3144  \n",
       " Mean   :105.4   Mean   :87   Mean   :0.03279   Mean   :0.3264  \n",
       " 3rd Qu.:156.5   3rd Qu.:87   3rd Qu.:0.03718   3rd Qu.:0.3804  \n",
       " Max.   :195.0   Max.   :87   Max.   :0.09897   Max.   :0.6890  \n",
       "                                                                \n",
       "        prbconv      prbpris           avgsen           polpc          \n",
       " 0.588859022: 2   Min.   :0.1500   Min.   : 5.450   Min.   :0.0007559  \n",
       " 0.068376102: 1   1st Qu.:0.3781   1st Qu.: 7.312   1st Qu.:0.0012378  \n",
       " 0.203724995: 1   Median :0.4274   Median : 8.795   Median :0.0014483  \n",
       " 0.226361006: 1   Mean   :0.4149   Mean   : 9.331   Mean   :0.0016275  \n",
       " 0.229589999: 1   3rd Qu.:0.4576   3rd Qu.:11.098   3rd Qu.:0.0018610  \n",
       " 0.248275995: 1   Max.   :0.6000   Max.   :14.620   Max.   :0.0044592  \n",
       " (Other)    :39                                                        \n",
       "    density            taxpc            west           central      \n",
       " Min.   :0.00002   Min.   :27.16   Min.   :0.0000   Min.   :0.0000  \n",
       " 1st Qu.:0.51019   1st Qu.:31.26   1st Qu.:0.0000   1st Qu.:0.0000  \n",
       " Median :0.78989   Median :35.16   Median :0.0000   Median :0.0000  \n",
       " Mean   :1.39427   Mean   :37.69   Mean   :0.2174   Mean   :0.3696  \n",
       " 3rd Qu.:1.32042   3rd Qu.:39.22   3rd Qu.:0.0000   3rd Qu.:1.0000  \n",
       " Max.   :8.82765   Max.   :75.67   Max.   :1.0000   Max.   :1.0000  \n",
       "                                                                    \n",
       "     urban            pctmin80           wcon            wtuc      \n",
       " Min.   :0.00000   Min.   : 1.541   Min.   :193.6   Min.   :187.6  \n",
       " 1st Qu.:0.00000   1st Qu.:13.106   1st Qu.:244.6   1st Qu.:355.2  \n",
       " Median :0.00000   Median :28.537   Median :270.0   Median :397.0  \n",
       " Mean   :0.08696   Mean   :28.698   Mean   :278.4   Mean   :396.6  \n",
       " 3rd Qu.:0.00000   3rd Qu.:38.945   3rd Qu.:302.4   3rd Qu.:420.8  \n",
       " Max.   :1.00000   Max.   :61.942   Max.   :436.8   Max.   :595.4  \n",
       "                                                                   \n",
       "      wtrd            wfir            wser            wmfg      \n",
       " Min.   :161.4   Min.   :234.5   Min.   :133.0   Min.   :157.4  \n",
       " 1st Qu.:189.5   1st Qu.:279.1   1st Qu.:208.6   1st Qu.:276.1  \n",
       " Median :199.7   Median :312.0   Median :248.0   Median :302.4  \n",
       " Mean   :210.0   Mean   :316.9   Mean   :244.1   Mean   :318.9  \n",
       " 3rd Qu.:219.3   3rd Qu.:341.5   3rd Qu.:269.0   3rd Qu.:351.0  \n",
       " Max.   :354.7   Max.   :509.5   Max.   :354.3   Max.   :627.0  \n",
       "                                                                \n",
       "      wfed            wsta            wloc            mix        \n",
       " Min.   :326.1   Min.   :267.8   Min.   :239.2   Min.   :0.1019  \n",
       " 1st Qu.:392.9   1st Qu.:328.1   1st Qu.:293.5   1st Qu.:0.1174  \n",
       " Median :431.0   Median :348.2   Median :304.5   Median :0.1517  \n",
       " Mean   :432.7   Mean   :349.8   Mean   :307.8   Mean   :0.1800  \n",
       " 3rd Qu.:468.0   3rd Qu.:377.9   3rd Qu.:327.0   3rd Qu.:0.2167  \n",
       " Max.   :568.4   Max.   :426.5   Max.   :379.8   Max.   :0.4651  \n",
       "                                                                 \n",
       "    pctymle           prbconv2    \n",
       " Min.   :0.06216   Min.   : 3.00  \n",
       " 1st Qu.:0.07457   1st Qu.:19.25  \n",
       " Median :0.07807   Median :41.00  \n",
       " Mean   :0.08485   Mean   :42.78  \n",
       " 3rd Qu.:0.08303   3rd Qu.:65.50  \n",
       " Max.   :0.24871   Max.   :91.00  \n",
       "                                  "
      ]
     },
     "metadata": {},
     "output_type": "display_data"
    }
   ],
   "source": [
    "#Need to convert conviction rate into numerics\n",
    "df$prbconv2 = as.numeric(df$prbconv)\n",
    "\n",
    "# Removed removed prbarr above 1, remove outlier on taxpc)\n",
    "df = subset(df, prbarr < 1 & taxpc <100 & mix >= 0.10186)\n",
    "nrow(df)\n",
    "summary(df)\n",
    "\n",
    "#These scatterplots were used to look for outliers and do an initial check for non-linear relationships\n",
    "\n",
    "#Model 1\n",
    "#scatterplotMatrix(~crmrte + prbarr + prbconv2 + avgsen, data = df, diagonal = list(method = \"histogram\"))\n",
    "\n",
    "#Model 2\n",
    "#scatterplotMatrix(~crmrte + prbarr + prbconv2 + avgsen + polpc + taxpc, data = df, diagonal = list(method = \"histogram\"))\n",
    "\n",
    "#Model 3\n",
    "#scatterplotMatrix(~crmrte + prbarr + prbconv2 + avgsen + polpc + taxpc + density + pctmin80 + pctymle, data = df, diagonal = list(method = \"histogram\"))"
   ]
  },
  {
   "cell_type": "markdown",
   "metadata": {},
   "source": [
    "## Model Building Process: Analyzing CLM Assumptions 1 and 2\n",
    "\n",
    "### 1 Linear Population Model\n",
    "Based on our initial exploratory data analysis, we did not find any evidence that would suggest a non-linear relationship between crime rate and any of the variables we selected in all three models.  For each model, we will do a more in depth analysis on each variable that is net new to the model, and we will call out any non-linear relationships that we see between these independent variables and crime rate.  Additionally, since we do not constrain the error term, we can assume there is some linear relationship between the variables provided by inspecting of the results of the models.  \n",
    "\n",
    "### 2 Random Sampling\n",
    "Data was collected on 91 out of 100 North Carolina counties.  Based on the background of the study, we see no evidence that would suggest any bias was present in the sampling methods. Therefore, we will move forward with the assumption that the random sampling CLM assumption was not violated."
   ]
  },
  {
   "cell_type": "markdown",
   "metadata": {},
   "source": [
    "## Regression Model 1\n",
    "As described above, we are focused on crime and punishment in this model. As stated above, our model is:\n",
    "\n",
    "$log(crime rate) = \\beta_0 \\ + \\ \\beta_1 log(probability \\ of \\ arrest) \\ + \\ \\beta_2 log(probability \\ of \\ conviction) \\ + \\ \\beta_3 log(average \\ sentence) $\n",
    "\n",
    "To further analyze this model we will conduct an EDA of the variables, assess if CLM assumptions #3-6 are valid and adjust our model if needed, and finally analyze the results of our model including the statistical significance of the results.\n",
    "\n",
    "## EDA of Model 1 Variables\n",
    "We will look at the variables prbarr (probability of arrest), prbconv2 (probability of conviction), and avgsen (average sentence).\n",
    "\n",
    "### EDA #1 prbarr (Probability of Arrest)"
   ]
  },
  {
   "cell_type": "code",
   "execution_count": 3,
   "metadata": {},
   "outputs": [
    {
     "data": {
      "text/plain": [
       "   Min. 1st Qu.  Median    Mean 3rd Qu.    Max. \n",
       " 0.1461  0.2548  0.3144  0.3264  0.3804  0.6890 "
      ]
     },
     "metadata": {},
     "output_type": "display_data"
    },
    {
     "data": {
      "image/png": "[encoded data removed]",
      "text/plain": [
       "Plot with title \"Histogram of df$prbarr\""
      ]
     },
     "metadata": {},
     "output_type": "display_data"
    }
   ],
   "source": [
    "hist(df$prbarr, ylim = c(0, 20), labels = TRUE)\n",
    "options(repr.plot.width=10, repr.plot.height=6)\n",
    "summary(df$prbarr)"
   ]
  },
  {
   "cell_type": "markdown",
   "metadata": {},
   "source": [
    "By inspection this variable does not appear to not have a major skew or major outliers with a min of 14.6% and a max of 68.9%.  While the max does seem high, I do not have sufficient evidence to dismiss it out of hand.  This variable is also a percentage and the values make sense for their range.  We will now take a look at the plot of crime rate (crmrte) to probability of arrest (prbarr)"
   ]
  },
  {
   "cell_type": "code",
   "execution_count": 4,
   "metadata": {},
   "outputs": [
    {
     "data": {
      "image/png": "[encoded data removed]",
      "text/plain": [
       "plot without title"
      ]
     },
     "metadata": {},
     "output_type": "display_data"
    }
   ],
   "source": [
    "plot(df$prbarr, df$crmrte)\n",
    "abline(lm(df$crmrte~df$prbarr))"
   ]
  },
  {
   "cell_type": "markdown",
   "metadata": {},
   "source": [
    "There is evidence of a negative relationship between crime rate and the probability of arrest.  However, we will reserve further analysis until later in the regression analysis.\n",
    "\n",
    "### EDA #2 prbconv2 (Probability of Conviction)"
   ]
  },
  {
   "cell_type": "code",
   "execution_count": 5,
   "metadata": {},
   "outputs": [
    {
     "data": {
      "text/plain": [
       "   Min. 1st Qu.  Median    Mean 3rd Qu.    Max. \n",
       "   3.00   19.25   41.00   42.78   65.50   91.00 "
      ]
     },
     "metadata": {},
     "output_type": "display_data"
    },
    {
     "data": {
      "image/png": "[encoded data removed]",
      "text/plain": [
       "Plot with title \"Histogram of df$prbconv2\""
      ]
     },
     "metadata": {},
     "output_type": "display_data"
    }
   ],
   "source": [
    "hist(df$prbconv2, ylim = c(0,10), labels = TRUE)\n",
    "summary(df$prbconv2)"
   ]
  },
  {
   "cell_type": "markdown",
   "metadata": {},
   "source": [
    "The values of prbconv2 seem to have a good spread with higher concentrations at 20% and 70%.  The max value of 91% seems high but within an acceptable value as a percentage.  The same as above, there is nothing here that would cause us to remove outliers or not accept the values as part of this analysis."
   ]
  },
  {
   "cell_type": "code",
   "execution_count": 6,
   "metadata": {},
   "outputs": [
    {
     "data": {
      "image/png": "[encoded data removed]",
      "text/plain": [
       "plot without title"
      ]
     },
     "metadata": {},
     "output_type": "display_data"
    }
   ],
   "source": [
    "plot(df$prbconv2, df$crmrte)\n",
    "abline(lm(df$crmrte~df$prbconv2))"
   ]
  },
  {
   "cell_type": "markdown",
   "metadata": {},
   "source": [
    "While not as strong as prbarr, the prbconv2 variable does seem to have a slight negative relationship to crime rate.\n",
    "\n",
    "### EDA #3 avgsen"
   ]
  },
  {
   "cell_type": "code",
   "execution_count": 7,
   "metadata": {},
   "outputs": [
    {
     "data": {
      "text/plain": [
       "   Min. 1st Qu.  Median    Mean 3rd Qu.    Max. \n",
       "  5.450   7.312   8.795   9.331  11.098  14.620 "
      ]
     },
     "metadata": {},
     "output_type": "display_data"
    },
    {
     "data": {
      "image/png": "[encoded data removed]",
      "text/plain": [
       "Plot with title \"Histogram of df$avgsen\""
      ]
     },
     "metadata": {},
     "output_type": "display_data"
    }
   ],
   "source": [
    "hist(df$avgsen, ylim = c(0,10), labels = TRUE)\n",
    "summary(df$avgsen)"
   ]
  },
  {
   "cell_type": "markdown",
   "metadata": {},
   "source": [
    "Considering average sentence is in number of days this distribution also seems to fit into reasonable parameters without significant skew or significant outliers.  While not a normal distribution, it does seem to have higher concentration around the 8 day or perhaps 1 week mark."
   ]
  },
  {
   "cell_type": "code",
   "execution_count": 8,
   "metadata": {},
   "outputs": [
    {
     "data": {
      "image/png": "[encoded data removed]",
      "text/plain": [
       "plot without title"
      ]
     },
     "metadata": {},
     "output_type": "display_data"
    }
   ],
   "source": [
    "plot(df$avgsen, df$crmrte)\n",
    "abline(lm(df$crmrte~df$avgsen))"
   ]
  },
  {
   "cell_type": "markdown",
   "metadata": {},
   "source": [
    "A slight relationship between avgsen and crmrte does appear but it does not seem to be a strong one. There are 2 values at the further end of avgsen which appear to pull the line up around 12 weeks and 15 weeks.  A single data point with a  high crime rate around 7 weeks also seems to affect the line as well.  We will need to see more when our model is fully developed and analyzed later.  \n",
    "\n",
    "## Model #1 CLM Assumptions 3-6\n",
    "Let's now take a look at our CLM assumptions #3-6 for this model which are:\n",
    "3.  No perfect multicollinearity\n",
    "4.  Zero-conditional mean\n",
    "5.  Homoskedasticity\n",
    "6.  Normality of Errors\n",
    "\n",
    "### Model 1 CLM #3 - No perfect multicollinearity\n",
    "Prior to moving into each CLM I will assume the model with no log transformations as stated in the model building process."
   ]
  },
  {
   "cell_type": "code",
   "execution_count": 9,
   "metadata": {},
   "outputs": [
    {
     "data": {
      "text/html": [
       "'Variance Inflation Factor form Model 1 (untransformed)'"
      ],
      "text/latex": [
       "'Variance Inflation Factor form Model 1 (untransformed)'"
      ],
      "text/markdown": [
       "'Variance Inflation Factor form Model 1 (untransformed)'"
      ],
      "text/plain": [
       "[1] \"Variance Inflation Factor form Model 1 (untransformed)\""
      ]
     },
     "metadata": {},
     "output_type": "display_data"
    },
    {
     "data": {
      "text/html": [
       "<dl class=dl-horizontal>\n",
       "\t<dt>prbarr</dt>\n",
       "\t\t<dd>1.03548392646502</dd>\n",
       "\t<dt>prbconv2</dt>\n",
       "\t\t<dd>1.04042297468507</dd>\n",
       "\t<dt>avgsen</dt>\n",
       "\t\t<dd>1.00534480227461</dd>\n",
       "</dl>\n"
      ],
      "text/latex": [
       "\\begin{description*}\n",
       "\\item[prbarr] 1.03548392646502\n",
       "\\item[prbconv2] 1.04042297468507\n",
       "\\item[avgsen] 1.00534480227461\n",
       "\\end{description*}\n"
      ],
      "text/markdown": [
       "prbarr\n",
       ":   1.03548392646502prbconv2\n",
       ":   1.04042297468507avgsen\n",
       ":   1.00534480227461\n",
       "\n"
      ],
      "text/plain": [
       "  prbarr prbconv2   avgsen \n",
       "1.035484 1.040423 1.005345 "
      ]
     },
     "metadata": {},
     "output_type": "display_data"
    }
   ],
   "source": [
    "model1a = lm(crmrte ~ prbarr + prbconv2 + avgsen, data = df)\n",
    "paste(\"Variance Inflation Factor form Model 1 (untransformed)\")\n",
    "vif (model1a)"
   ]
  },
  {
   "cell_type": "markdown",
   "metadata": {},
   "source": [
    "Since R did not alert us to any issues with the model and the VIF test shows all variables with a a VIF around we know that we do not have perfect collinearity and in fact we have low collinearity in general.\n",
    "\n",
    "### Model 1 CLM #4 - Zero Conditional Mean\n",
    "We will examine the Residuals vs Fitted plot for this assessment.  Again, we will use our nontransformed model first."
   ]
  },
  {
   "cell_type": "code",
   "execution_count": 10,
   "metadata": {},
   "outputs": [
    {
     "data": {
      "image/png": "[encoded data removed]",
      "text/plain": [
       "Plot with title \"\""
      ]
     },
     "metadata": {},
     "output_type": "display_data"
    }
   ],
   "source": [
    "plot(model1a, which =1)"
   ]
  },
  {
   "cell_type": "markdown",
   "metadata": {},
   "source": [
    "Initial inspection leads us to believe that we do not have a a strong case for zero conditional mean.  However, we do see that values 58, 53, & 23 may be influencing our curve on each end.  Let's examine if our log transformation helps recitfy this issue."
   ]
  },
  {
   "cell_type": "code",
   "execution_count": 11,
   "metadata": {},
   "outputs": [
    {
     "data": {
      "image/png": "[encoded data removed]",
      "text/plain": [
       "Plot with title \"\""
      ]
     },
     "metadata": {},
     "output_type": "display_data"
    }
   ],
   "source": [
    "model1 = lm(log(crmrte) ~ log(prbarr) + log(prbconv2) + log(avgsen), data = df)\n",
    "plot(model1, which=1)"
   ]
  },
  {
   "cell_type": "markdown",
   "metadata": {},
   "source": [
    "While we see some similar trends, the log transformation does seem to help us to lessen the impact of the height of the line at the ends.  Since the line stays within close proximity to 0 for the vast majority of lines, we will keep our zero conditional mean assumption with this log transformation.\n",
    "\n",
    "### CLM #5 Homoskedacity\n",
    "We will now examine our log transformed model for Homoskedacity using a Scale-Location plot."
   ]
  },
  {
   "cell_type": "code",
   "execution_count": 12,
   "metadata": {},
   "outputs": [
    {
     "data": {
      "image/png": "[encoded data removed]",
      "text/plain": [
       "Plot with title \"\""
      ]
     },
     "metadata": {},
     "output_type": "display_data"
    }
   ],
   "source": [
    "plot(model1, which=3)"
   ]
  },
  {
   "cell_type": "markdown",
   "metadata": {},
   "source": [
    "While this is not a bad plot for homoskedacity, we still have evidence of heteroskedacity.  We can account for this with a conservative approach and utlize robust standard erros.  From this point forward, we will utilize the (vcov = vcovHC) to leverage the robust standard errors.\n",
    "\n",
    "### CLM #6 Normality of Errors\n",
    "To examine this assumption we will look at our the Normal Q-Q plot to see how our residuals fit as well as the histogram of our residuals in our model."
   ]
  },
  {
   "cell_type": "code",
   "execution_count": 13,
   "metadata": {},
   "outputs": [
    {
     "data": {
      "image/png": "[encoded data removed]",
      "text/plain": [
       "Plot with title \"\""
      ]
     },
     "metadata": {},
     "output_type": "display_data"
    },
    {
     "data": {
      "image/png": "[encoded data removed]",
      "text/plain": [
       "Plot with title \"Histogram of model1$residuals\""
      ]
     },
     "metadata": {},
     "output_type": "display_data"
    }
   ],
   "source": [
    "plot(model1, which=2)\n",
    "hist(model1$residuals)"
   ]
  },
  {
   "cell_type": "markdown",
   "metadata": {},
   "source": [
    "The QQ plot does not have a perfect fit to the line, meaning absolute normality of error does not exist in this sample.  However, the residuals did not have a strongly skewed distribution.  Again, the histogram does not show normaility especially because of some higher concentrations around -0.5.  At the same time, the general shape of the histogram and with a sampling size of n=46, we will invoke the Central Limit Theorem with an n>30 and keep our assumption on normality of error.\n",
    "\n",
    "### Residuals vs Leverage Check\n",
    "While not part of our assumptions we can also look at the plot of Residuals vs Leverage to see if any single data points are driving our model."
   ]
  },
  {
   "cell_type": "code",
   "execution_count": 14,
   "metadata": {},
   "outputs": [
    {
     "data": {
      "image/png": "[encoded data removed]",
      "text/plain": [
       "Plot with title \"\""
      ]
     },
     "metadata": {},
     "output_type": "display_data"
    }
   ],
   "source": [
    "plot(model1, which=5)"
   ]
  },
  {
   "cell_type": "markdown",
   "metadata": {},
   "source": [
    "No standard residuals from our data points are driving our model, however we will not that data point 6 is close to the Cook's distance of 0.5.\n",
    "\n",
    "## Regression Tables\n",
    "Now that we have conducted our EDA, checked our CLM assumptions #3-6, and conducted a transformation, we can now move into the results of our model and analyze their meaning."
   ]
  },
  {
   "cell_type": "code",
   "execution_count": 15,
   "metadata": {},
   "outputs": [
    {
     "ename": "ERROR",
     "evalue": "Error in stargazer(model1, type = \"text\", report = \"vc\", title = \"% Change in Crime Rate vs % Change in Prob of Arrest & Police per Capita\", : could not find function \"stargazer\"\n",
     "output_type": "error",
     "traceback": [
      "Error in stargazer(model1, type = \"text\", report = \"vc\", title = \"% Change in Crime Rate vs % Change in Prob of Arrest & Police per Capita\", : could not find function \"stargazer\"\nTraceback:\n"
     ]
    }
   ],
   "source": [
    "model1 = lm(log(crmrte) ~ log(prbarr) + log(prbconv2) + log(avgsen), data = df)\n",
    "\n",
    "stargazer(model1, type = 'text', report = 'vc', title = \"% Change in Crime Rate vs % Change in Prob of Arrest & Police per Capita\",\n",
    "         keep.stat = c('n', 'rsq'), omit.table.layout = 'n')\n",
    "paste(\"t and p values with robust standard errors\")\n",
    "coeftest(model1, vcov = vcovHC)"
   ]
  },
  {
   "cell_type": "markdown",
   "metadata": {},
   "source": [
    "## Model 1 Analysis\n",
    "This model appeared to have a strong assocation of decline in the crime rate based on increasing probability of arrests, probability of conviction and average sentecing.  The coefficeints of $\\beta_1 \\ = \\ -.983$ for probability of arrest and $\\beta_2 \\ = \\ -.231$ for probability of conviction and $\\beta_3 \\ = \\ -.035$ suggest a strong association.  Furthermore, the $R^2 \\ = \\ .507$ seems to suggest that these variables account for a little more than 50% of the percent change in the crime rate. In terms of the social sciences, we can consider this value to be strong.  With the log - log transformation we can say that a 1% change in the unit rate of each of our independent variables will account for the $\\beta_i$ % change in the unit rate of the dependent variable.  For example, we can say that this model suggests that a 1% increase in the probablity of arrest is associated with a -0.98% change in the crime rate. \n",
    "\n",
    "### Statistical and Practical Signficance\n",
    "While we had good correlation in our model, we find that we only have statistical significance in prbarr and prbconv2.  The p-values for each of those variables was less than .05 while the avgsen had a high p-value well above .05.  This indicates that the we cannot reject a null hypthoses that $H_0: \\ \\beta_3 \\ = \\ 0$, meaning that avgsen is not stastically significant.  In terms of practical significance, this seems practical in that a county could in fact raise arrest rates and conviction rates just 1% to see a 1% decrease in the crime rate.\n",
    "\n",
    "This starts to help form our conculusion on the policy reccomendations we might make by focusing on crime and punishment in these counties with higher face to face crime.\n",
    "\n",
    "At the same time, we do want to know what happens in our model with the addition of other covariates, especially if we want to hold other variables constant in our analysis.  This will lead us to Model #2 where we want to hold administrative commitments and costs constant."
   ]
  },
  {
   "cell_type": "markdown",
   "metadata": {},
   "source": [
    "## Model 2 Analysis"
   ]
  },
  {
   "cell_type": "markdown",
   "metadata": {},
   "source": [
    "In model 2, we included two additional variables which we believe will increase the accuracy of our results. We have included average sentence (avgsen) and 'probability of conviction (prbconv).\n",
    "\n",
    "So our model 2 will be - \n",
    "\n",
    "𝑙𝑜𝑔(𝑐𝑟𝑖𝑚𝑒𝑟𝑎𝑡𝑒)= 𝛽0  + 𝛽1𝑙𝑜𝑔(𝑝𝑟𝑜𝑏𝑎𝑏𝑖𝑙𝑖𝑡𝑦 𝑜𝑓 𝑎𝑟𝑟𝑒𝑠𝑡) + 𝛽2𝑙𝑜𝑔(𝑝𝑜𝑙𝑖𝑐𝑒 𝑝𝑒𝑟 𝑐𝑎𝑝𝑖𝑡𝑎) + 𝛽3𝑙𝑜𝑔(average sentence) + 𝛽2𝑙𝑜𝑔(𝑝robability of conviction)\n",
    "\n",
    "<br>\n",
    "\n",
    "This model appeared to have a strong assocation of decline in the crime rate based on increasing probability of arrests, police per capita, average sentence and probability of conviction.  The coefficeints of $\\beta_1 \\ = \\ -.88$ for probability of arrest, $\\beta_2 \\ = \\ .23$ for police per capita and $\\beta_3 \\ = \\ .25$  for average sentence days suggest a strong association.  Furthermore, the $R^2 \\ = \\ .497$ seems to suggest that these variables account for close to 50% of the percent change in the crime rate. 𝑅2  has increased from Model 1 but this can be attributed to addition of two more variables.\n",
    "\n",
    "Also, these coefficients continue to confirm our thinking that if police per capita is ommitted, it would over-estimate probability of arrest on moving crime rate closer to 0. Continuing from Model 1, this helps our conculusion on the policy reccomendations we might make regarding crime and arrests which we will address in the conclusion.\n",
    "\n",
    "We will also add additional variables to understand if any other variables help us understand better on our output variable. In Model 3, we will add few more variables which will help us solidify our conclusion.\n",
    "\n"
   ]
  },
  {
   "cell_type": "code",
   "execution_count": null,
   "metadata": {},
   "outputs": [],
   "source": [
    "model2 = lm(log(crmrte) ~ log(prbarr) + log(prbconv2) + log(avgsen)+ log(polpc)+log(taxpc), data = df)\n",
    "\n",
    "summary(model2)$r.square"
   ]
  },
  {
   "cell_type": "code",
   "execution_count": null,
   "metadata": {},
   "outputs": [],
   "source": [
    "#Checking for CLM assumptions. \n",
    "plot(model2)\n",
    "hist(model2$residuals)\n",
    "shapiro.test(model2$residuals)\n",
    "coeftest(model2, vcov = vcovHC)\n",
    "vcovHC(model2)\n",
    "# % increase in probability arrest is associated with 0.88% decline in crime rate."
   ]
  },
  {
   "cell_type": "markdown",
   "metadata": {},
   "source": [
    "##### Discussion of CLM Assumption analysis for Model 2\n",
    "- Zero Conditional Mean: Looking at the Residuals vs. Fitted value, the values are centered fairly close to 0 throughout the x-value except at the extreme values of X.\n",
    "- Homoskedasticity: We can also see in the Residuals vs Fitted value plot that the the variance is larger for smaller x-value, thus indicating heteroskedasticity. In addition, we can also reject the null hypothesis that the residuals is normally distributed by looking at the p-value < 0.05 in the Shapiro test.\n",
    "- Normality of errors: Looking at the Normal Q-Q plot, our residuals do not closely follow the diagonal line entirely. This indicates that normality assumption of errors is also violated. Due to the size of our observation, we should note that we will not be able to rely on OLS asymptotic assumption and may need to consider correcting for this. \n",
    "- Leverage & Influence: Due to small sample size, many observations have high leverage. Also, we see that there is a single observation falling outside the 0.5 dotted line which signals potential for strong influence. "
   ]
  },
  {
   "cell_type": "markdown",
   "metadata": {},
   "source": [
    "## Regression Table"
   ]
  },
  {
   "cell_type": "code",
   "execution_count": null,
   "metadata": {
    "scrolled": true
   },
   "outputs": [],
   "source": [
    "library('stargazer')\n",
    "\n",
    "model1 = lm(log(crmrte) ~ log(prbarr)+ log(prbconv2) + log(avgsen), data = df)\n",
    "\n",
    "stargazer(model1, model2, type = 'text', report = 'vc', title = \"% Change in Crime Rate vs % Change in Prob of Arrest , % Change in Police per Capita, % Change in average sentence days & % Change in probability of conviction\",\n",
    "         keep.stat = c('n', 'rsq'), omit.table.layout = 'n')\n",
    "#scatterplot(log(crmrte) ~ log(prbarr) + log(polpc) + log(avgsen) + log(prbconv2)), data = df, ylab = \"% Change in Crime Rate\", xlab = \"% Change in Probability of Arrest and Average Sentence\", main = \"Regression Model 1:  \n",
    "#% Change in Crime Rate vs % Change in Probability of Arrest and Average Sentence\n",
    "#(Counties with Higher than Avg Face - To - Face Crimes)\")"
   ]
  },
  {
   "cell_type": "markdown",
   "metadata": {},
   "source": [
    "## Regression Model 3\n",
    "For Model 3, we included density, percent of young male and percent of minority as additional covariates to analyze whether our initial assumptions regarding severity of punishment continue to hold true while holding variables from the dataset that define the demographic composition of the county and density constant.\n",
    "\n",
    "Our Model 3 is:\n",
    "\n",
    "$log(crime rate) = \\beta_0 \\ + \\ \\beta_1 log(probability \\ of \\ arrest) \\ + \\ \\beta_2 log(probability \\ of \\ conviction) \\ + \\ \\beta_3 log(average \\ sentence) + \\ \\beta_4 log(police \\ per \\ capita) \\ + \\ \\beta_5 log(tax \\ per \\ capita) \\ + \\ \\beta_6 log(density) + \\ \\beta_7 log(percent \\ of \\ young \\ male) \\ + \\ \\beta_8 log(percent \\ of \\ minority) \\ $\n",
    "\n",
    "\n",
    "## EDA of Model 3 Variables\n",
    "We will look at the variables 1) density, 2)percent of young male and 3)percent of minority.\n",
    "\n",
    "### EDA #1 Density (people per sq. mile)"
   ]
  },
  {
   "cell_type": "code",
   "execution_count": null,
   "metadata": {},
   "outputs": [],
   "source": [
    "hist(df$density, ylim = c(0, 30), labels = TRUE)\n",
    "options(repr.plot.width=8, repr.plot.height=8)\n",
    "summary(df$density)"
   ]
  },
  {
   "cell_type": "markdown",
   "metadata": {},
   "source": [
    "Looking at the histogram, we are able to see that the over 75% of our sample has density less than 2 and there the data is heavily skewed to the right. It is in line with our expectation that there will be a few high density urban counties surrounded by less dense suburban and rural counties. No extreme outlier is observed that leads us to question further on data quality of this variable.\n"
   ]
  },
  {
   "cell_type": "code",
   "execution_count": null,
   "metadata": {},
   "outputs": [],
   "source": [
    "plot(df$density, df$crmrte)\n",
    "options(repr.plot.width=5, repr.plot.height=5)\n",
    "abline(lm(df$crmrte~df$density))"
   ]
  },
  {
   "cell_type": "markdown",
   "metadata": {},
   "source": [
    "There is very strong positive correlation between density and crime rate. However we also noted that the number of samples for more extreme values (e.g. counties with density greater than 2 people per sq.mile and crime rate over 0.06) is very small and will look closer for potential influence in our later analysis.  Density will be added to our model to determine whether severity of punishment is still negatively correlated with crime rate when adjusting for how crowded the county is.\n",
    "\n",
    "\n",
    "\n",
    "\n",
    "### EDA 2 Pctymle (Percent young male)"
   ]
  },
  {
   "cell_type": "code",
   "execution_count": null,
   "metadata": {},
   "outputs": [],
   "source": [
    "hist(df$pctymle, ylim = c(0, 30), labels = TRUE)\n",
    "options(repr.plot.width=5, repr.plot.height=5)\n",
    "summary(df$pctymle)"
   ]
  },
  {
   "cell_type": "markdown",
   "metadata": {},
   "source": [
    "Based on the histogram, most (42 out of 46) counties have percent young male less than 10%. This graph is also heavily skewed to the right. We hypothesized that the outlier county with ~25% young male may be a college town where we would expect to see much higher concentration of young demographic.  However, this does not warrant this outlier observation to be removed from the regression dataset."
   ]
  },
  {
   "cell_type": "code",
   "execution_count": null,
   "metadata": {},
   "outputs": [],
   "source": [
    "plot(df$pctymle, df$crmrte)\n",
    "options(repr.plot.width=5, repr.plot.height=5)\n",
    "abline(lm(df$crmrte~df$pctymle))"
   ]
  },
  {
   "cell_type": "markdown",
   "metadata": {},
   "source": [
    "Here, we also see positive correlation between percent young male and crime rate as expected.  Especially because we've limited our observations to counties with greater than average(median) face to face offense mix, it is plausible that higher percentage of young male is positively correlates with the county crime rate. Percent young male will be added to our model to determine whether severity of punishment is still negatively correlated with crime rate when adjusting for demographic mix looking specifically at young male.\n",
    "\n",
    "\n",
    "### EDA 3 pctmin80 (Percent minority in 1980)"
   ]
  },
  {
   "cell_type": "code",
   "execution_count": null,
   "metadata": {},
   "outputs": [],
   "source": [
    "hist(df$pctmin80, ylim = c(0, 12), labels = TRUE)\n",
    "\n",
    "summary(df$pctmin80)"
   ]
  },
  {
   "cell_type": "markdown",
   "metadata": {},
   "source": [
    "Compared to above two covariates, percent of minority(in 1980) is less skewed to the right. There are only 4 counties with percent minority greater than 50% and by definition, was in line with expecation. As with any state or major city, there will be few selected areas with higher concentration of minority population, but we would expect to find this metric to be lower than 50% for most data points. We did not note any data quality issues with this dataset (e.g. perecent minority > 100)"
   ]
  },
  {
   "cell_type": "code",
   "execution_count": null,
   "metadata": {},
   "outputs": [],
   "source": [
    "plot(df$pctmin80, df$crmrte)\n",
    "options(repr.plot.width=5, repr.plot.height=5)\n",
    "abline(lm(df$crmrte~df$pctmin80))"
   ]
  },
  {
   "cell_type": "markdown",
   "metadata": {},
   "source": [
    "We continue to observe positive correlation with crime rate, although for percent minority, it is not as obvious. \n",
    "Percent minority will be added to our model to determine whether severity of punishment is still negatively correlated with crime rate when adjusting for minority mix.\n",
    "\n",
    "\n",
    "\n",
    "## Model #3 CLM Assumptions 3-6\n",
    "\n",
    "\n",
    "### Model 3 CLM #3 - No perfect multicollinearity\n"
   ]
  },
  {
   "cell_type": "code",
   "execution_count": null,
   "metadata": {},
   "outputs": [],
   "source": [
    "model3 = lm(log(crmrte) ~ log(prbarr) + log(prbconv2) + log(avgsen)+ log(polpc) + log(taxpc)+ log(density) + log(pctymle)+log(pctmin80), data = df)\n",
    "paste(\"Variance Inflation Factor form Model 1 (untransformed)\")\n",
    "vif (model3)"
   ]
  },
  {
   "cell_type": "markdown",
   "metadata": {},
   "source": [
    "There is no perfect multicollinearity between the variable included in the regression."
   ]
  },
  {
   "cell_type": "markdown",
   "metadata": {},
   "source": [
    "### Model 3 CLM #4 - Zero conditional mean"
   ]
  },
  {
   "cell_type": "code",
   "execution_count": null,
   "metadata": {},
   "outputs": [],
   "source": [
    "plot(model3, which =1)\n",
    "#plot(model3a, which = 1)"
   ]
  },
  {
   "cell_type": "markdown",
   "metadata": {},
   "source": [
    "Looking at the Residuals vs. Fitted value, the values are centered fairly close to 0 throughout the x-value, with a few noticeable outliers at the bottom of the graph. However, we are not able to identify any pattern in the residuals and determined that the model meets teh zero conditional mean assumption."
   ]
  },
  {
   "cell_type": "markdown",
   "metadata": {},
   "source": [
    "### Model 3 CLM #5 - Homoskedasticity"
   ]
  },
  {
   "cell_type": "code",
   "execution_count": null,
   "metadata": {},
   "outputs": [],
   "source": [
    "plot(model3, which = 3)\n",
    "options(repr.plot.width=5, repr.plot.height=5)\n",
    "#plot(model3a, which = 3)"
   ]
  },
  {
   "cell_type": "markdown",
   "metadata": {},
   "source": [
    "Looking at above Scale-Location plot, we observe random and fairly even spread of residuals, and have determined that our model may assume homoscedasticity."
   ]
  },
  {
   "cell_type": "markdown",
   "metadata": {},
   "source": [
    "### Model 3 CLM #6 - Normality of error"
   ]
  },
  {
   "cell_type": "code",
   "execution_count": null,
   "metadata": {},
   "outputs": [],
   "source": [
    "plot(model3, which = 2)\n",
    "#plot(model3a,which = 2)"
   ]
  },
  {
   "cell_type": "markdown",
   "metadata": {},
   "source": [
    "Looking at the Normal Q-Q plot, our residuals do not closely follow the diagonal line, especially in the lower theoretical quantiles and does not show normality. However, we see that in below histogram that the residuals are not strongly skewed and loosely resemble normal distribution and with a sampling size of n=46, we will invoke the Central Limit Theorem (n>30) and maintain our assumption on normality of error. "
   ]
  },
  {
   "cell_type": "code",
   "execution_count": null,
   "metadata": {},
   "outputs": [],
   "source": [
    "hist(model3$residuals)\n",
    "#hist(model3a$residuals)\n"
   ]
  },
  {
   "cell_type": "markdown",
   "metadata": {},
   "source": [
    "### Leverage & Influence: \n",
    "\n",
    "We anticipate that due to small sample size(n=46), certain observations may have high leverage. Below, we see that there are two observations(Cook's distance > 0.5) that signal potential for strong influence. However, we will not remove these observations from our dataset automatically and allow our model to be flexible. "
   ]
  },
  {
   "cell_type": "code",
   "execution_count": 16,
   "metadata": {},
   "outputs": [
    {
     "ename": "ERROR",
     "evalue": "Error in plot(model3, which = 5): object 'model3' not found\n",
     "output_type": "error",
     "traceback": [
      "Error in plot(model3, which = 5): object 'model3' not found\nTraceback:\n",
      "1. plot(model3, which = 5)"
     ]
    }
   ],
   "source": [
    "plot(model3, which = 5)\n",
    "#df\n",
    "#dfa = subset(df, (county != 173 & county != 195)) #subset dataset to exclude 2 high influence samples\n",
    "#dfa\n",
    "#model3a = lm(log(crmrte) ~ log(prbarr) + log(prbconv2) + log(avgsen)+ log(polpc) + log(taxpc)+ log(density) + log(pctymle)+log(pctmin80), data = dfa)\n",
    "#plot(model3a, which = 5)"
   ]
  },
  {
   "cell_type": "markdown",
   "metadata": {},
   "source": [
    "## Regression Table\n"
   ]
  },
  {
   "cell_type": "code",
   "execution_count": null,
   "metadata": {},
   "outputs": [],
   "source": [
    "#fitting the linear model of model3\n",
    "library(stargazer)\n",
    "\n",
    "stargazer(model1, model2, model3, type = 'text', report = 'vc', title = \"Model comparison: % Change in Crime Rate\", column.labels = c('Base Model', 'Model 2', 'Model 3'),\n",
    "         dep.var.labels = '% Change in Crime Rate',  covariate.labels = c('probability of arrest', 'probability of conviction', 'average sentence days', 'police per capita', \n",
    "                                                                         'tax per capita', 'density', 'percent of young male', 'percent of minority' ), keep.stat = c('n', 'rsq',\"adj.rsq\"), omit.table.layout = 'n')\n",
    "\n",
    "paste('t and p values with robust standard errors')\n",
    "coeftest(model3, vcov = vcovHC)\n",
    "#(se.model3 = sqrt(diag(vcovHC(model3))))"
   ]
  },
  {
   "cell_type": "markdown",
   "metadata": {},
   "source": [
    "## Model 3 Analysis\n",
    "\n",
    "We included below list of covaritates in addition to the features included in our model 2 (1. probability of arrest, 2. police per capita, 3. average sentence days and 4. probability of conviction).\n",
    "-  density\n",
    "-  percent young male (pctymle)\n",
    "-  percent minority, 1980 (pctmin80)\n",
    "\n",
    "This model still demonstrates to have a strong assocation of decline in the crime rate based on increasing probability of arrests, probability of conviction and average sentecing. The coefficeints of  𝛽1 = −.601  for probability of arrest and  𝛽2 = −.164  for probability of conviction and  𝛽3 = −.257  suggest a strong association. Furthermore, the increase in 𝑅2 = .82  suggests that these variables account for 82% of the percent change in the crime rate although we also understand that by introducing additional 5 covariates to the base model, we naturally expect increase in 𝑅2 .  Consistent with earlier model analysis, With the log - log transformation, a 1% change in the unit rate of each of our independent variables will account for the  𝛽𝑖  % change in the crime rate. \n",
    "\n",
    "\n",
    "### Statistical and Practical Significance\n",
    "\n",
    "Although we continue to observe strong negative correlation in our model between the key punishment variables and crime rate, only the coefficients of prbarr and pctmin80 appear to be significant. The p-values for each of those variables was less than .05 while the taxpc and  density both had high p-value that exceed 0.5. From a statistical signficance perspective, we can reject the null hypothesis that either 𝛽1(probability of arrest) or 𝛽8(percent minority) is 0, and that they are associated to changes in the crime rate. From a practical significance perspective, we can continue to argue that strengthening the severity of punishment can help with reducing crime rate, but any political policy that involves a stance on minority is always delicate and sensitive, and therefore does not provide actionable insight. In addition, we did anticipate that the covariates added for model 3(density, percent young male and percent minority) are variables that cannot be easily controlled or influenced from policies, and therefor may help the overall model from the perspective of removing any ommited variable impact in the key variables(punishment) we are interested in, but less so in forming a recommendation as a standalone variable. "
   ]
  },
  {
   "cell_type": "markdown",
   "metadata": {},
   "source": [
    "## Omitted Variables Discussion"
   ]
  },
  {
   "cell_type": "markdown",
   "metadata": {},
   "source": [
    "## 1. Unemployment (unemp)\n",
    "\n",
    "-\tSize of bias: Unclear\n",
    "-\tProxies: None in the data\n",
    "\n",
    "### Impact on log(prbarr)\n",
    "If $\\beta_4 > 0 $, $\\delta_1 < 0 $, then $OVB = \\beta_4\\delta_1 < 0 $ and if $\\beta_1<0$ then the OLS coefficient on $log(prbarr)$ will be scaled away from zero (more negative), gaining statistical significance. \n",
    "-\tEstimated direction: away from 0\n",
    "-\tExplanation for direction: If log(prbarr) increases (i.e. more likely to be arrested), we expect unemp to decrease slightly because crime is now less profitable.\n",
    "-\tImpact on whether effects are real: Including the omitted variable unemp would only strengthen the OLS coefficient for log(prbarr).\n",
    "\n",
    "### Impact on log(prbconv2)\n",
    "If $\\beta_4 > 0 $, $\\delta_2 < 0 $, then $OVB = \\beta_4\\delta_2 < 0 $ and if $\\beta_2 <0$ then the OLS coefficient on $log(prbconv2)$ will be scaled away from zero (more negative), gaining statistical significance. \n",
    "-\tEstimated direction: away from 0\n",
    "-\tExplanation for direction: If log(prbconv2) increases (i.e. more likely to be convicted), we expect unemp to decrease slightly because crime is now more costly, which might prompt people to seek employment instead.\n",
    "-\tImpact on whether effects are real: Including the omitted variable unemp would only strengthen the OLS coefficient for log(prbconv2).\n",
    "\n",
    "### Impact on log(avgsen)\n",
    "If $\\beta_4 > 0 $, $\\delta_3 < 0 $, then $OVB = \\beta_4\\delta_3 < 0 $ and if $\\beta_3 <0$ then the OLS coefficient on $log(avgsen)$ will be scaled away from zero (more negative), gaining statistical significance.\n",
    "-\tEstimated direction: away from 0\n",
    "-\tExplanation for direction: If log(avgsen) increases (i.e. increase in average sentence length), we expect unemp to decrease slightly because crime is now less profitable.\n",
    "-\tImpact on whether effects are real: Including the omitted variable unemp would only strengthen the OLS coefficient for log(avgsen)."
   ]
  },
  {
   "cell_type": "markdown",
   "metadata": {},
   "source": [
    "## 2. Income inequality (ineq)\n",
    "\n",
    "-\tSize of bias: Unclear\n",
    "-\tProxies: Could take the difference between the highest and lowest sectoral wages.\n",
    "\n",
    "### Impact on log(prbarr)\n",
    "If $\\beta_4 > 0 $, $\\delta_1 > 0 $, then $OVB = \\beta_4\\delta_1 > 0 $ and if $\\beta_1<0$ then the OLS coefficient on $log(prbarr)$ will be scaled towards zero (less negative), losing statistical significance. \n",
    "-\tEstimated direction: towards 0\n",
    "-\tExplanation for direction: If log(prbarr) increases (i.e. more likely to be arrested), we expect inequality to increase because stricter criminal laws tend to be enacted in more unequal places.\n",
    "-\tImpact on whether effects are real: Including the omitted variable ineq would weaken the OLS coefficient for log(prbarr), indicating that its effects may not be that strong or real.\n",
    "\n",
    "### Impact on log(prbconv2)\n",
    "If $\\beta_4 > 0 $, $\\delta_2 > 0 $, then $OVB = \\beta_4\\delta_2 > 0 $ and if $\\beta_2 < 0$ then the OLS coefficient on $log(prbconv2)$ will be scaled towards zero (less negative), losing statistical significance. \n",
    "-\tEstimated direction: towards 0\n",
    "-\tExplanation for direction: If log(prbconv2) increases (i.e. more likely to be convicted), we expect ineq to increase because we think places with higher changes in probability of convictions tend to occur in places with more inequality.\n",
    "-\tImpact on whether effects are real: Including the omitted variable ineq would weaken the OLS coefficient for log(prbconv2).\n",
    "\n",
    "### Impact on log(avgsen)\n",
    "If $\\beta_4 > 0 $, $\\delta_3 > 0 $, then $OVB = \\beta_4\\delta_3 > 0 $ and if $\\beta_3 <0$ then the OLS coefficient on $log(avgsen)$ will be scaled towards zero (less negative), losing statistical significance.\n",
    "-\tEstimated direction: towards 0\n",
    "-\tExplanation for direction: If log(avgsen) increases (i.e. increase in change in average sentence length), we expect ineq to increase because the more unequal places probably have longer incarceration durations.\n",
    "-\tImpact on whether effects are real: Including the omitted variable ineq would strengthen the OLS coefficient for log(avgsen)."
   ]
  },
  {
   "cell_type": "markdown",
   "metadata": {},
   "source": [
    "## 3. Immigration levels (immi)\n",
    "\n",
    "-\tSize of bias: Unclear\n",
    "-\tProxies: Potentially the pctmin80 variable, or the wser and wcon variables, assuming that most immigrants end up in the service and/or construction industries. Lower wages than average might indicate the presence of immigrants in those sectors.\n",
    "\n",
    "### Impact on log(prbarr)\n",
    "If $\\beta_4 > 0 $, $\\delta_1 > 0 $, then $OVB = \\beta_4\\delta_1 > 0 $ and if $\\beta_1<0$ then the OLS coefficient on $log(prbarr)$ will be scaled towards zero (less negative), losing statistical significance. \n",
    "-\tEstimated direction: towards 0\n",
    "-\tExplanation for direction: We expect log(prbarr) to be positively associated with immi, possibly due to lower levels of social trust. \n",
    "-\tImpact on whether effects are real: Including the omitted variable ineq would weaken the OLS coefficient for log(prbarr), indicating that its effects may not be that strong or real.\n",
    "\n",
    "### Impact on log(prbconv2)\n",
    "If $\\beta_4 > 0 $, $\\delta_2 > 0 $, then $OVB = \\beta_4\\delta_2 > 0 $ and if $\\beta_2 <0$ then the OLS coefficient on $log(prbconv2)$ will be scaled towards zero (less negative), losing statistical significance.  \n",
    "-\tEstimated direction: towards 0\n",
    "-\tExplanation for direction: We expect log(prbconv2) to be positively associated with immi, i.e. places with more immigrants may have more convictions in order to ensure public order and security (whether real or imagined). \n",
    "-\tImpact on whether effects are real: Including drug would weaken the OLS coefficient for log(prbconv2), reducing its effect size.\n",
    "\n",
    "### Impact on log(avgsen)\n",
    "If $\\beta_4 > 0 $, $\\delta_3 > 0 $, then $OVB = \\beta_4\\delta_3 > 0 $ and if $\\beta_3 <0$ then the OLS coefficient on $log(avgsen)$ will be scaled towards zero (less negative), losing statistical significance. \n",
    "-\tEstimated direction: towards 0\n",
    "-\tExplanation for direction: We think log(avgsen) might be somewhat positively associated with immi, i.e. places with more immigrants may have longer sentences in order to because of institutional discrimination. \n",
    "-\tImpact on whether effects are real: Including ineq would weaken the OLS coefficient for log(avgsen), reducing its effect size."
   ]
  },
  {
   "cell_type": "markdown",
   "metadata": {},
   "source": [
    "## 4. Alcohol and drug abuse levels (drug)\n",
    "\n",
    "-\tSize of bias: Unclear\n",
    "-\tProxies: Potentially the pctymle variable, but only if we assume drug abuse rates among youth are constant across counties.\n",
    "\n",
    "### Impact on log(prbarr)\n",
    "If $\\beta_4 > 0 $, $\\delta_1 > 0 $, then $OVB = \\beta_4\\delta_1 > 0 $ and if $\\beta_1<0$ then the OLS coefficient on $log(prbarr)$ will be scaled towards zero (less negative), losing statistical significance. \n",
    "-\tEstimated direction: towards 0\n",
    "-\tExplanation for direction: We expect log(prbarr) to be positively associated with drug - with more drug abuse, we expect that the log(prbarr) variable increases. \n",
    "-\tImpact on whether effects are real: Including the omitted variable drug would weaken the OLS coefficient for log(prbarr), indicating that its effects may not be that strong or real.\n",
    "\n",
    "### Impact on log(prbconv2)\n",
    "If $\\beta_4 > 0 $, $\\delta_2 > 0 $, then $OVB = \\beta_4\\delta_2 > 0 $ and if $\\beta_2 <0$ then the OLS coefficient on $log(prbconv2)$ will be scaled towards zero (less negative), losing statistical significance.  \n",
    "-\tEstimated direction: towards 0\n",
    "-\tExplanation for direction: We expect log(prbconv2) to be positively associated with drug, i.e. counties with more drug abuse are more likely to have convictions in order to deter drug and alcohol abuse and other crime. \n",
    "-\tImpact on whether effects are real: Including drug would weaken the OLS coefficient for log(prbconv2), reducing its effect size.\n",
    "\n",
    "### Impact on log(avgsen)\n",
    "If $\\beta_4 > 0 $, $\\delta_3 > 0 $, then $OVB = \\beta_4\\delta_3 > 0 $ and if $\\beta_3 <0$ then the OLS coefficient on $log(avgsen)$ will be scaled towards zero (less negative), losing statistical significance. \n",
    "-\tEstimated direction: towards 0\n",
    "-\tExplanation for direction:  We expect log(avgsen) to be positively associated with drug, i.e. counties with more drug abuse are likely to have longer sentences in order to deter drug and alcohol abuse. \n",
    "-\tImpact on whether effects are real: Including drug would weaken the OLS coefficient for log(avgsen), reducing its effect size."
   ]
  },
  {
   "cell_type": "markdown",
   "metadata": {},
   "source": [
    "## 5. Poverty (poor)\n",
    "\n",
    "-\tSize of bias: Unclear\n",
    "-\tProxies: The taxpc variable may give an indicator of the poverty levels in a county.\n",
    "\n",
    "### Impact on log(prbarr)\n",
    "If $\\beta_4 > 0 $, $\\delta_1 > 0 $, then $OVB = \\beta_4\\delta_1 > 0 $ and if $\\beta_1<0$ then the OLS coefficient on $log(prbarr)$ will be scaled towards zero (less negative), losing statistical significance. \n",
    "-\tEstimated direction: towards 0\n",
    "-\tExplanation for direction: We expect log(prbarr) to be positively associated with poor - because of beliefs that poor people are likelier to commit crime, the poor variable increases when log(prbarr) increases.\n",
    "-\tImpact on whether effects are real: Including the omitted variable poor would weaken the OLS coefficient for log(prbarr), indicating that its effects may not be that strong or real.\n",
    "\n",
    "### Impact on log(prbconv2)\n",
    "If $\\beta_4 > 0 $, $\\delta_2 > 0 $, then $OVB = \\beta_4\\delta_2 > 0 $ and if $\\beta_2 <0$ then the OLS coefficient on $log(prbconv2)$ will be scaled towards zero (less negative), losing statistical significance.  \n",
    "-\tEstimated direction: towards 0\n",
    "-\tExplanation for direction: We expect log(prbconv2) to be positively associated with poor, i.e. counties with more poor people are more likely to have convictions in order to deter them from committing opportunistic crime. \n",
    "-\tImpact on whether effects are real: Including poor would weaken the OLS coefficient for log(prbconv2), reducing its effect size.\n",
    "\n",
    "### Impact on log(avgsen)\n",
    "If $\\beta_4 > 0 $, $\\delta_3 > 0 $, then $OVB = \\beta_4\\delta_3 > 0 $ and if $\\beta_3 <0$ then the OLS coefficient on $log(avgsen)$ will be scaled towards zero (less negative), losing statistical significance. \n",
    "-\tEstimated direction: towards 0\n",
    "-\tExplanation for direction:  We expect log(avgsen) to be marginally positively associated with poor, i.e. counties with more poor people are likely to have longer sentences because petty crime tends to incur longer sentences. \n",
    "-\tImpact on whether effects are real: Including poor would weaken the OLS coefficient for log(avgsen), reducing its effect size."
   ]
  },
  {
   "cell_type": "markdown",
   "metadata": {},
   "source": [
    "## 6. Parental criminality (prtcrm)\n",
    "\n",
    "-\tSize of bias: Unclear\n",
    "-\tProxies: None in this data set.\n",
    "\n",
    "### Impact on log(prbarr)\n",
    "If $\\beta_4 > 0 $, $\\delta_1 > 0 $, then $OVB = \\beta_4\\delta_1 > 0 $ and if $\\beta_1<0$ then the OLS coefficient on $log(prbarr)$ will be scaled towards zero (less negative), losing statistical significance. \n",
    "-\tEstimated direction: towards 0\n",
    "-\tExplanation for direction: We expect log(prbarr) to be positively associated with prtcrm. Parents with criminal records are likelier to have children who commit crimes. Consequently, as log(prbarr) increases due to increased crime, we expect prtcrm to increase too. \n",
    "-\tImpact on whether effects are real: Including the omitted variable prtcrm would weaken the OLS coefficient for log(prbarr), indicating that its effects may not be that strong or real.\n",
    "\n",
    "### Impact on log(prbconv2)\n",
    "If $\\beta_4 > 0 $, $\\delta_2 > 0 $, then $OVB = \\beta_4\\delta_2 > 0 $ and if $\\beta_2 <0$ then the OLS coefficient on $log(prbconv2)$ will be scaled towards zero (less negative), losing statistical significance.  \n",
    "-\tEstimated direction: towards 0\n",
    "-\tExplanation for direction: We expect log(prbconv2) to be positively associated with prtcrm, i.e. counties with higher parental criminality are more likely to have crime and thus likelier convictions to deter would-be criminals.\n",
    "-\tImpact on whether effects are real: Including prtcrm would weaken the OLS coefficient for log(prbconv2), reducing its effect size.\n",
    "\n",
    "### Impact on log(avgsen)\n",
    "If $\\beta_4 > 0 $, $\\delta_3 > 0 $, then $OVB = \\beta_4\\delta_3 > 0 $ and if $\\beta_3 <0$ then the OLS coefficient on $log(avgsen)$ will be scaled towards zero (less negative), losing statistical significance. \n",
    "-\tEstimated direction: towards 0\n",
    "-\tExplanation for direction: We expect log(avgsen) to be positively associated with prtcrm, i.e. counties with higher parental criminality are more likely to have crime and thus heavier sentences to deter would-be criminals.\n",
    "-\tImpact on whether effects are real: Including prtcrm would weaken the OLS coefficient for log(avgsen), reducing its effect size."
   ]
  },
  {
   "cell_type": "markdown",
   "metadata": {},
   "source": [
    "## 7. Quality of parenting/dysfunctional family background (dysfunc)\n",
    "\n",
    "-\tSize of bias: Unclear\n",
    "-\tProxies: None in this data set.\n",
    "\n",
    "### Impact on log(prbarr)\n",
    "If $\\beta_4 > 0 $, $\\delta_1 > 0 $, then $OVB = \\beta_4\\delta_1 > 0 $ and if $\\beta_1<0$ then the OLS coefficient on $log(prbarr)$ will be scaled towards zero (less negative), losing statistical significance. \n",
    "-\tEstimated direction: towards 0\n",
    "-\tExplanation for direction: We expect log(prbarr) to be positively associated with dysfunc. Individuals from dysfunctional families are likelier to commit crimes. Consequently, as log(prbarr) increases, we expect dysfunc to increase too. \n",
    "-\tImpact on whether effects are real: Including the omitted variable dysfunc would weaken the OLS coefficient for prbarr, indicating that its effects may not be that strong or real.\n",
    "\n",
    "### Impact on log(prbconv2)\n",
    "If $\\beta_4 > 0 $, $\\delta_2 > 0 $, then $OVB = \\beta_4\\delta_2 > 0 $ and if $\\beta_2 <0$ then the OLS coefficient on $log(prbconv2)$ will be scaled towards zero (less negative), losing statistical significance.  \n",
    "-\tEstimated direction: towards 0\n",
    "-\tExplanation for direction: We expect log(prbconv2) to be positively associated with dysfunc, i.e. counties with more dysfunctional families are more likely to have crime and thus likelier convictions to deter would-be criminals.\n",
    "-\tImpact on whether effects are real: Including dysfunc would weaken the OLS coefficient for log(prbconv2), reducing its effect size.\n",
    "\n",
    "### Impact on log(avgsen)\n",
    "If $\\beta_4 > 0 $, $\\delta_3 > 0 $, then $OVB = \\beta_4\\delta_3 > 0 $ and if $\\beta_3 <0$ then the OLS coefficient on $log(avgsen)$ will be scaled towards zero (less negative), losing statistical significance. \n",
    "-\tEstimated direction: towards 0\n",
    "-\tExplanation for direction: We expect log(avgsen) to be positively associated with dysfunc, i.e. counties with more dysfunctional families are more likely to have crime and thus heavier sentences to deter would-be criminals.\n",
    "-\tImpact on whether effects are real: Including dysfunc would weaken the OLS coefficient for log(avgsen), reducing its effect size."
   ]
  },
  {
   "cell_type": "markdown",
   "metadata": {},
   "source": [
    "## 8. Education (educ)\n",
    "\n",
    "-\tSize of bias: Unclear\n",
    "-\tProxies: Perhaps the urban variable, because urban populations tend to be more educated than their non-urban counterparts. Or the wfir variable, assuming that finding employment in finance, insurance and real estate may require more education than the other sectors.\n",
    "\n",
    "### Impact on log(prbarr)\n",
    "If $\\beta_4 < 0 $, $\\delta_1 < 0 $, then $OVB = \\beta_4\\delta_1 > 0 $ and if $\\beta_1<0$ then the OLS coefficient on $log(prbarr)$ will be scaled towards zero (less negative), losing statistical significance. \n",
    "-\tEstimated direction: towards 0\n",
    "-\tExplanation for direction: We expect log(prbarr) to be negatively associated with educ. In more educated counties, the log(prbarr) is probably lower. However, we also expect educ to reduce the crmrte variable. Hence, when we take their product to calculate the OVB, we end up with a positive product.\n",
    "-\tImpact on whether effects are real: Including the omitted variable educ would weaken the OLS coefficient for log(prbarr), indicating that its effects may not be that strong or real.\n",
    "\n",
    "### Impact on log(prbconv2)\n",
    "If $\\beta_4 < 0 $, $\\delta_2 < 0 $, then $OVB = \\beta_4\\delta_2 > 0 $ and if $\\beta_2 <0$ then the OLS coefficient on $log(prbconv2)$ will be scaled towards zero (less negative), losing statistical significance.  \n",
    "-\tEstimated direction: towards 0\n",
    "-\tExplanation for direction: In more educated counties, the log(prbconv2) is probably lower, as the criminal justice system is probably more likely to give educated people the benefit of the doubt and not convict them. Hence, we expect log(prbconv2) to be negatively associated with educ. Consequently, when we take their product to calculate the OVB, we end up with a positive value.\n",
    "-\tImpact on whether effects are real: Including educ would weaken the OLS coefficient for log(prbconv2), reducing its effect size.\n",
    "\n",
    "### Impact on log(avgsen)\n",
    "If $\\beta_4 < 0 $, $\\delta_3 < 0 $, then $OVB = \\beta_4\\delta_3 > 0 $ and if $\\beta_3 <0$ then the OLS coefficient on $log(avgsen)$ will be scaled towards zero (less negative), losing statistical significance. \n",
    "-\tEstimated direction: towards 0\n",
    "-\tExplanation for direction: In more educated counties, the log(avgsen) is probably lower, as longer sentences are usually awarded to petty and violent crime instead of white-collar crime. Hence, we expect log(avgsen) to be negatively associated with educ. Consequently, when we take their product to calculate the OVB, we end up with a positive value.\n",
    "-\tImpact on whether effects are real: Including educ would weaken the OLS coefficient for log(avgsen), reducing its effect size."
   ]
  },
  {
   "cell_type": "markdown",
   "metadata": {},
   "source": [
    "## 9. Protections for women (protec)\n",
    "\n",
    "-\tSize of bias: Unclear\n",
    "-\tProxies: None in this data set.\n",
    "\n",
    "### Impact on log(prbarr)\n",
    "If $\\beta_4 < 0 $, $\\delta_1 > 0 $, then $OVB = \\beta_4\\delta_1 < 0 $ and if $\\beta_1<0$ then the OLS coefficient on $log(prbarr)$ will be scaled away from zero (more negative), gaining statistical significance. \n",
    "-\tEstimated direction: away from 0\n",
    "-\tExplanation for direction: We expect log(prbarr) to be positively associated with protec. We think that counties with stronger protections for women will take a tougher stance against crimes, and thus have larger log(prbarr). However, we also expect protec to reduce the crmrte variable. Hence, we end up with a negative OVB.\n",
    "-\tImpact on whether effects are real: Including the omitted variable protec would strengthen the OLS coefficient for prbarr, increasing its effect size.\n",
    "\n",
    "### Impact on log(prbconv2)\n",
    "If $\\beta_4 < 0 $, $\\delta_2 > 0 $, then $OVB = \\beta_4\\delta_2 < 0 $ and if $\\beta_2 <0$ then the OLS coefficient on $log(prbconv2)$ will be scaled away from zero (more negative), gaining statistical significance.  \n",
    "-\tEstimated direction: towards 0\n",
    "-\tExplanation for direction: We expect log(prbconv2) to be positively associated with protec. Counties with a stronger stance against crime are likely to have protections for women too. However, we also expect protec to reduce the crmrte variable. Hence, when we take their product to calculate the OVB, we end up with a negative value.\n",
    "-\tImpact on whether effects are real: Including protec would strengthen the OLS coefficient for log(prbconv2), increasing its effect size.\n",
    "\n",
    "### Impact on log(avgsen)\n",
    "If $\\beta_4 < 0 $, $\\delta_3 > 0 $, then $OVB = \\beta_4\\delta_3 < 0 $ and if $\\beta_3 <0$ then the OLS coefficient on $log(avgsen)$ will be scaled away from zero (more negative), gaining statistical significance.\n",
    "-\tEstimated direction: towards 0\n",
    "-\tExplanation for direction: We expect log(avgsen) to be positively associated with protec. Counties with a stronger stance against crime are likely to have protections for women too. However, we also expect protec to reduce the crmrte variable. Hence, when we take their product to calculate the OVB, we end up with a negative value.\n",
    "-\tImpact on whether effects are real: Including protec would strengthen the OLS coefficient for log(avgsen), increasing its effect size."
   ]
  },
  {
   "cell_type": "markdown",
   "metadata": {},
   "source": [
    "## 10. Investment in social services (invest)\n",
    "\n",
    "-\tSize of bias: Unclear\n",
    "-\tProxies: taxpc and polpc variables, which indicate the relative amounts of resources that each county has.\n",
    "\n",
    "### Impact on log(prbarr)\n",
    "If $\\beta_4 < 0 $, $\\delta_1 > 0 $, then $OVB = \\beta_4\\delta_1 < 0 $ and if $\\beta_1<0$ then the OLS coefficient on $log(prbarr)$ will be scaled away from zero (more negative), gaining statistical significance. \n",
    "-\tEstimated direction: away from 0\n",
    "-\tExplanation for direction: We expect log(prbarr) to be positively associated with invest. We think that counties with larger log(prbarr), which indicates their commitment to tackling crime, are likely to have both the commitment and resources for increased social services spending. However, we also expect invest to reduce the crmrte variable. Hence, we end up with a negative OVB.\n",
    "-\tImpact on whether effects are real: Including the omitted variable invest would strengthen the OLS coefficient for log(prbarr), increasing its effect size.\n",
    "\n",
    "### Impact on log(prbconv2)\n",
    "If $\\beta_4 < 0 $, $\\delta_2 > 0 $, then $OVB = \\beta_4\\delta_2 < 0 $ and if $\\beta_2 <0$ then the OLS coefficient on $log(prbconv2)$ will be scaled away from zero (more negative), gaining statistical significance.  \n",
    "-\tEstimated direction: towards 0\n",
    "-\tExplanation for direction: We expect log(prbconv2) to be positively associated with invest. Counties with the resources to take a strong stance against crime are more likely to have social services investment. We also expect invest to reduce the crmrte variable. Hence, when we take their product to calculate the OVB, we end up with a negative value.\n",
    "-\tImpact on whether effects are real: Including invest would strengthen the OLS coefficient for log(prbconv2), increasing its effect size.\n",
    "\n",
    "### Impact on log(avgsen)\n",
    "If $\\beta_4 < 0 $, $\\delta_3 > 0 $, then $OVB = \\beta_4\\delta_3 < 0 $ and if $\\beta_3 <0$ then the OLS coefficient on $log(avgsen)$ will be scaled away from zero (more negative), gaining statistical significance.\n",
    "-\tEstimated direction: towards 0\n",
    "-\tExplanation for direction: We expect log(avgsen) to be positively associated with invest. Counties with the resources to lock people away for longer are more likely to have social services investment. We also expect invest to reduce the crmrte variable. Hence, when we take their product to calculate the OVB, we end up with a negative value.\n",
    "-\tImpact on whether effects are real: Including invest would strengthen the OLS coefficient for log(avgsen), increasing its effect size."
   ]
  },
  {
   "cell_type": "markdown",
   "metadata": {},
   "source": [
    "## Conclusions for Omitted Variables Discussion\n",
    "\n",
    "Overall, only 3 omitted variables unemp, protec and invest would strengthen the OLS coefficients for our key determinants of crime. The remaining 7 of them - ineq, immi, drug, poor, prtcrm, dysfunc, educ - all weaken the OLS coefficients. Given that more omitted variables weaken rather than strengthen the determinants, and that most academics believe ineq, poor and educ to be more important variables than the others, we can reasonably conclude that omitted variable bias would reduce the effects for our determinants, indicating that the effects presented may be weaker or not real at all. More study is required to establish the extent of the reduction in effect size (i.e. the size of the bias)."
   ]
  },
  {
   "cell_type": "markdown",
   "metadata": {},
   "source": [
    "## Conclusion\n",
    "\n",
    "The popular catch-phrase from the 1960's and 1970's \"Don't do the crime if you can't do the time\" certainly rings true even today. The key to lowering crime rate in North Carolina is to reinforce the connection between actions and consequences, especially in those areas that have a high rate of face to face crimes.  Our campaign is rooted in the mission of reducing the crime that matters. We are going to empower our police officers to form stronger bonds with the community and tap into their network to find those responsible for committing heinous, face to face crimes. Along with increasing the probability of arrest for those who commit crimes, we are also going to harshen the punishments for individuals that are repeat offenders.  We are confident that increasing the average sentence on criminals who continue to commit crimes after they have already been caught will help to deter them from choosing to break the law after they have already been caught once. Keeping North Carolina safe starts with empowering those who are charged with protecting us to find those responsible for crimes, and allowing them to implement a punishment structure that will deter citizens from breaking the law.\n"
   ]
  }
 ],
 "metadata": {
  "kernelspec": {
   "display_name": "R",
   "language": "R",
   "name": "ir"
  },
  "language_info": {
   "codemirror_mode": "r",
   "file_extension": ".r",
   "mimetype": "text/x-r-source",
   "name": "R",
   "pygments_lexer": "r",
   "version": "3.5.1"
  }
 },
 "nbformat": 4,
 "nbformat_minor": 2
}
