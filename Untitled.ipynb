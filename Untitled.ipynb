{
 "cells": [
  {
   "cell_type": "markdown",
   "metadata": {},
   "source": [
    "Assumptions:\n",
    "1. Goal of the political campaign: to get a candidate into office\n",
    "2. The people of North Carolina are rational in that they do not want to commit crimes and do not want crimes commited to them\n",
    "3. People would support a plan to lower crime rates and would be more likely to support a candidate who has a plan to lower crime rate  by voting for that candidate\n",
    "\n",
    "\n",
    "What could a politician do to lower crime rates?\n",
    "1. Change the amount people are taxed\n",
    "2. Change the wages for local government officials\n",
    "3. Change the number of police that are in the area\n",
    "\n",
    "\n",
    "Variables in the dataset and descriptions:\n",
    "\n",
    "1 county county identiﬁer\n",
    "2 year 1987 \n",
    "3 crmrte crimes committed per person \n",
    "4 prbarr ‘probability’ of arrest \n",
    "5 prbconv ‘probability’ of conviction \n",
    "6 prbpris ‘probability’ of prison sentence \n",
    "7 avgsen avg. sentence, days \n",
    "8 polpc police per capita \n",
    "9 density people per sq. mile \n",
    "10 taxpc tax revenue per capita \n",
    "11 west =1 if in western N.C. \n",
    "12 central =1 if in central N.C. \n",
    "13 urban =1 if in SMSA \n",
    "14 pctmin80 perc. minority, 1980 \n",
    "15 wcon weekly wage, construction \n",
    "16 wtuc wkly wge, trns, util, commun \n",
    "17 wtrd wkly wge, whlesle, retail trade \n",
    "18 wﬁr wkly wge, ﬁn, ins, real est \n",
    "19 wser wkly wge, service industry \n",
    "20 wmfg wkly wge, manufacturing \n",
    "21 wfed wkly wge, fed employees \n",
    "22 wsta wkly wge, state employees \n",
    "23 wloc wkly wge, local gov emps \n",
    "24 mix offense mix: face-to-face/other \n",
    "25 pctymle percent young male (15 to 24)"
   ]
  },
  {
   "cell_type": "markdown",
   "metadata": {},
   "source": [
    "Research Question:\n",
    "\n",
    "Do the tax revenue per capita, wages for local government employees, and police per capita predict the crimes committed per person for the subset of North Carolina counties?"
   ]
  },
  {
   "cell_type": "code",
   "execution_count": 17,
   "metadata": {},
   "outputs": [
    {
     "data": {
      "text/html": [
       "25"
      ],
      "text/latex": [
       "25"
      ],
      "text/markdown": [
       "25"
      ],
      "text/plain": [
       "[1] 25"
      ]
     },
     "metadata": {},
     "output_type": "display_data"
    },
    {
     "data": {
      "text/html": [
       "97"
      ],
      "text/latex": [
       "97"
      ],
      "text/markdown": [
       "97"
      ],
      "text/plain": [
       "[1] 97"
      ]
     },
     "metadata": {},
     "output_type": "display_data"
    },
    {
     "data": {
      "text/html": [
       "TRUE"
      ],
      "text/latex": [
       "TRUE"
      ],
      "text/markdown": [
       "TRUE"
      ],
      "text/plain": [
       "[1] TRUE"
      ]
     },
     "metadata": {},
     "output_type": "display_data"
    }
   ],
   "source": [
    "#library(stargazer)\n",
    "A <- read.csv(file='crime_v2.csv', header=TRUE, sep=',')\n",
    "length(A)\n",
    "nrow(A)\n",
    "head(A)"
   ]
  },
  {
   "cell_type": "code",
   "execution_count": 18,
   "metadata": {},
   "outputs": [
    {
     "data": {
      "text/html": [
       "TRUE"
      ],
      "text/latex": [
       "TRUE"
      ],
      "text/markdown": [
       "TRUE"
      ],
      "text/plain": [
       "[1] TRUE"
      ]
     },
     "metadata": {},
     "output_type": "display_data"
    },
    {
     "data": {
      "text/html": [
       "TRUE"
      ],
      "text/latex": [
       "TRUE"
      ],
      "text/markdown": [
       "TRUE"
      ],
      "text/plain": [
       "[1] TRUE"
      ]
     },
     "metadata": {},
     "output_type": "display_data"
    },
    {
     "data": {
      "text/html": [
       "TRUE"
      ],
      "text/latex": [
       "TRUE"
      ],
      "text/markdown": [
       "TRUE"
      ],
      "text/plain": [
       "[1] TRUE"
      ]
     },
     "metadata": {},
     "output_type": "display_data"
    },
    {
     "data": {
      "text/html": [
       "TRUE"
      ],
      "text/latex": [
       "TRUE"
      ],
      "text/markdown": [
       "TRUE"
      ],
      "text/plain": [
       "[1] TRUE"
      ]
     },
     "metadata": {},
     "output_type": "display_data"
    }
   ],
   "source": [
    "#Check for any null values\n",
    "any(is.na(A$crmrte))\n",
    "any(is.na(A$taxpc))\n",
    "any(is.na(A$wloc))\n",
    "any(is.na(A$polpc))"
   ]
  },
  {
   "cell_type": "code",
   "execution_count": 19,
   "metadata": {},
   "outputs": [
    {
     "data": {
      "text/html": [
       "91"
      ],
      "text/latex": [
       "91"
      ],
      "text/markdown": [
       "91"
      ],
      "text/plain": [
       "[1] 91"
      ]
     },
     "metadata": {},
     "output_type": "display_data"
    },
    {
     "data": {
      "text/html": [
       "FALSE"
      ],
      "text/latex": [
       "FALSE"
      ],
      "text/markdown": [
       "FALSE"
      ],
      "text/plain": [
       "[1] FALSE"
      ]
     },
     "metadata": {},
     "output_type": "display_data"
    },
    {
     "data": {
      "text/html": [
       "FALSE"
      ],
      "text/latex": [
       "FALSE"
      ],
      "text/markdown": [
       "FALSE"
      ],
      "text/plain": [
       "[1] FALSE"
      ]
     },
     "metadata": {},
     "output_type": "display_data"
    },
    {
     "data": {
      "text/html": [
       "FALSE"
      ],
      "text/latex": [
       "FALSE"
      ],
      "text/markdown": [
       "FALSE"
      ],
      "text/plain": [
       "[1] FALSE"
      ]
     },
     "metadata": {},
     "output_type": "display_data"
    }
   ],
   "source": [
    "#Create a subset without the null values and check for the other three variables being null in that subset\n",
    "crimedata <- subset(A, crmrte!='NA')\n",
    "nrow(crimedata)\n",
    "any(is.na(crimedata$taxpc))\n",
    "any(is.na(crimedata$wloc))\n",
    "any(is.na(crimedata$polpc))"
   ]
  },
  {
   "cell_type": "markdown",
   "metadata": {},
   "source": [
    "### Crime Rate (crmrte)"
   ]
  },
  {
   "cell_type": "code",
   "execution_count": 28,
   "metadata": {},
   "outputs": [
    {
     "data": {
      "text/plain": [
       "    Min.  1st Qu.   Median     Mean  3rd Qu.     Max. \n",
       "0.005533 0.020927 0.029986 0.033400 0.039642 0.098966 "
      ]
     },
     "metadata": {},
     "output_type": "display_data"
    },
    {
     "data": {
      "image/png": "[encoded data removed]",
      "text/plain": [
       "Plot with title \"Histogram of Crime Rate\""
      ]
     },
     "metadata": {},
     "output_type": "display_data"
    }
   ],
   "source": [
    "summary(crimedata$crmrte)\n",
    "hist(crimedata$crmrte, main='Histogram of Crime Rate', xlab=NULL)"
   ]
  },
  {
   "cell_type": "markdown",
   "metadata": {},
   "source": [
    "### Police Per Capita (polpc)"
   ]
  },
  {
   "cell_type": "code",
   "execution_count": 42,
   "metadata": {},
   "outputs": [
    {
     "data": {
      "text/plain": [
       "     Min.   1st Qu.    Median      Mean   3rd Qu.      Max. \n",
       "0.0007459 0.0012308 0.0014853 0.0017022 0.0018768 0.0090543 "
      ]
     },
     "metadata": {},
     "output_type": "display_data"
    },
    {
     "data": {
      "text/plain": [
       "\n",
       "Call:\n",
       "lm(formula = crmrte ~ polpc, data = crimedata)\n",
       "\n",
       "Coefficients:\n",
       "(Intercept)        polpc  \n",
       "    0.02789      3.23791  \n"
      ]
     },
     "metadata": {},
     "output_type": "display_data"
    },
    {
     "data": {
      "text/html": [
       "0.0288608635947654"
      ],
      "text/latex": [
       "0.0288608635947654"
      ],
      "text/markdown": [
       "0.0288608635947654"
      ],
      "text/plain": [
       "[1] 0.02886086"
      ]
     },
     "metadata": {},
     "output_type": "display_data"
    },
    {
     "data": {
      "image/png": "[encoded data removed]",
      "text/plain": [
       "Plot with title \"Crime Rate vs. Police Per Capita\""
      ]
     },
     "metadata": {},
     "output_type": "display_data"
    }
   ],
   "source": [
    "summary(crimedata$polpc)\n",
    "#hist(crimedata$polpc, main='Histogram of Police Per Capita', xlab=NULL)\n",
    "plot(crimedata$polpc, crimedata$crmrte, xlab=\"Police Per Capita\", ylab='Crime Rate', main=\"Crime Rate vs. Police Per Capita\")\n",
    "(model1 = lm(crmrte ~ polpc, data=crimedata))\n",
    "abline(model1)\n",
    "summary(model1)$r.square"
   ]
  },
  {
   "cell_type": "markdown",
   "metadata": {},
   "source": [
    "### Tax Revenue Per Capita (taxpc)"
   ]
  },
  {
   "cell_type": "code",
   "execution_count": 43,
   "metadata": {},
   "outputs": [
    {
     "data": {
      "text/plain": [
       "   Min. 1st Qu.  Median    Mean 3rd Qu.    Max. \n",
       "  25.69   30.66   34.87   38.06   40.95  119.76 "
      ]
     },
     "metadata": {},
     "output_type": "display_data"
    },
    {
     "data": {
      "text/plain": [
       "\n",
       "Call:\n",
       "lm(formula = crmrte ~ taxpc, data = crimedata)\n",
       "\n",
       "Coefficients:\n",
       "(Intercept)        taxpc  \n",
       "  0.0087148    0.0006487  \n"
      ]
     },
     "metadata": {},
     "output_type": "display_data"
    },
    {
     "data": {
      "text/html": [
       "0.203382763638285"
      ],
      "text/latex": [
       "0.203382763638285"
      ],
      "text/markdown": [
       "0.203382763638285"
      ],
      "text/plain": [
       "[1] 0.2033828"
      ]
     },
     "metadata": {},
     "output_type": "display_data"
    },
    {
     "data": {
      "image/png": "[encoded data removed]",
      "text/plain": [
       "Plot with title \"Crime Rate vs. Tax Revenue Per Capita\""
      ]
     },
     "metadata": {},
     "output_type": "display_data"
    }
   ],
   "source": [
    "summary(crimedata$taxpc)\n",
    "#hist(crimedata$taxpc, main='Histogram of Tax Revenue Per Capita', xlab=NULL)\n",
    "plot(crimedata$taxpc, crimedata$crmrte, xlab=\"Tax Revenue Per Capita\", ylab='Crime Rate', main=\"Crime Rate vs. Tax Revenue Per Capita\")\n",
    "(model2 = lm(crmrte ~ taxpc, data=crimedata))\n",
    "abline(model2)\n",
    "summary(model2)$r.square"
   ]
  },
  {
   "cell_type": "markdown",
   "metadata": {},
   "source": [
    "### Weekly Wage of Local Government Officials (wloc)"
   ]
  },
  {
   "cell_type": "code",
   "execution_count": 44,
   "metadata": {},
   "outputs": [
    {
     "data": {
      "text/plain": [
       "   Min. 1st Qu.  Median    Mean 3rd Qu.    Max. \n",
       "  239.2   297.3   308.1   312.7   329.2   388.1 "
      ]
     },
     "metadata": {},
     "output_type": "display_data"
    },
    {
     "data": {
      "text/plain": [
       "\n",
       "Call:\n",
       "lm(formula = crmrte ~ wloc, data = crimedata)\n",
       "\n",
       "Coefficients:\n",
       "(Intercept)         wloc  \n",
       " -0.0391837    0.0002321  \n"
      ]
     },
     "metadata": {},
     "output_type": "display_data"
    },
    {
     "data": {
      "text/html": [
       "0.121407174311064"
      ],
      "text/latex": [
       "0.121407174311064"
      ],
      "text/markdown": [
       "0.121407174311064"
      ],
      "text/plain": [
       "[1] 0.1214072"
      ]
     },
     "metadata": {},
     "output_type": "display_data"
    },
    {
     "data": {
      "image/png": "[encoded data removed]",
      "text/plain": [
       "Plot with title \"Crime Rate vs. Wage of Local Government Officials\""
      ]
     },
     "metadata": {},
     "output_type": "display_data"
    }
   ],
   "source": [
    "summary(crimedata$wloc)\n",
    "#hist(crimedata$wloc, main='Histogram of Weekly Wage of Local Government Officials', xlab=NULL)\n",
    "plot(crimedata$wloc, crimedata$crmrte, xlab=\"Wage of Local Government Officials\", ylab='Crime Rate', main=\"Crime Rate vs. Wage of Local Government Officials\")\n",
    "(model3 = lm(crmrte ~ wloc, data=crimedata))\n",
    "abline(model3)\n",
    "summary(model3)$r.square"
   ]
  },
  {
   "cell_type": "markdown",
   "metadata": {},
   "source": []
  },
  {
   "cell_type": "code",
   "execution_count": 45,
   "metadata": {},
   "outputs": [
    {
     "data": {
      "text/plain": [
       "\n",
       "Call:\n",
       "lm(formula = crmrte ~ wloc + taxpc, data = crimedata)\n",
       "\n",
       "Coefficients:\n",
       "(Intercept)         wloc        taxpc  \n",
       " -0.0438018    0.0001776    0.0005694  \n"
      ]
     },
     "metadata": {},
     "output_type": "display_data"
    },
    {
     "data": {
      "text/html": [
       "0.271412921084795"
      ],
      "text/latex": [
       "0.271412921084795"
      ],
      "text/markdown": [
       "0.271412921084795"
      ],
      "text/plain": [
       "[1] 0.2714129"
      ]
     },
     "metadata": {},
     "output_type": "display_data"
    }
   ],
   "source": [
    "(model4 = lm(crmrte ~ wloc + taxpc, data=crimedata))\n",
    "summary(model4)$r.square"
   ]
  },
  {
   "cell_type": "code",
   "execution_count": null,
   "metadata": {},
   "outputs": [],
   "source": []
  }
 ],
 "metadata": {
  "kernelspec": {
   "display_name": "R",
   "language": "R",
   "name": "ir"
  },
  "language_info": {
   "codemirror_mode": "r",
   "file_extension": ".r",
   "mimetype": "text/x-r-source",
   "name": "R",
   "pygments_lexer": "r",
   "version": "3.5.1"
  }
 },
 "nbformat": 4,
 "nbformat_minor": 2
}
